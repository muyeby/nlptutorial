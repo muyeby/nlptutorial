{
 "cells": [
  {
   "cell_type": "code",
   "execution_count": 8,
   "metadata": {
    "collapsed": false
   },
   "outputs": [
    {
     "name": "stdout",
     "output_type": "stream",
     "text": [
      "[('the', 1430), ('of', 1120), ('a', 809), ('to', 743), ('and', 685), ('in', 529), ('is', 483), ('as', 279), ('that', 277), ('for', 269)]\n"
     ]
    }
   ],
   "source": [
    "#coding:utf-8\n",
    "\n",
    "from collections import Counter\n",
    "\n",
    "import sys\n",
    "\n",
    "data = \"../../../test/00-input.txt\"\n",
    "data2 = \"../../../data/wiki-en-train.txt\"\n",
    "cnt  = Counter()\n",
    "#with open(sys.argv[1],'rb') as f:\n",
    "with open(data2,'rb') as f:\n",
    "    lines = f.readlines()\n",
    "    for l in lines:\n",
    "        cnt.update(l.strip().split())\n",
    "print cnt.most_common(10)"
   ]
  },
  {
   "cell_type": "code",
   "execution_count": null,
   "metadata": {
    "collapsed": true
   },
   "outputs": [],
   "source": []
  }
 ],
 "metadata": {
  "kernelspec": {
   "display_name": "Python 2",
   "language": "python",
   "name": "python2"
  },
  "language_info": {
   "codemirror_mode": {
    "name": "ipython",
    "version": 2
   },
   "file_extension": ".py",
   "mimetype": "text/x-python",
   "name": "python",
   "nbconvert_exporter": "python",
   "pygments_lexer": "ipython2",
   "version": "2.7.13"
  }
 },
 "nbformat": 4,
 "nbformat_minor": 2
}
